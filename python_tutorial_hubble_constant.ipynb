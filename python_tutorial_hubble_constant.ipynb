{
 "cells": [
  {
   "cell_type": "code",
   "execution_count": null,
   "metadata": {
    "collapsed": true
   },
   "outputs": [],
   "source": [
    "# This is my python \"cheat sheet\" "
   ]
  },
  {
   "cell_type": "code",
   "execution_count": 1,
   "metadata": {
    "collapsed": false
   },
   "outputs": [
    {
     "data": {
      "text/plain": [
       "1"
      ]
     },
     "execution_count": 1,
     "metadata": {},
     "output_type": "execute_result"
    }
   ],
   "source": [
    "1"
   ]
  },
  {
   "cell_type": "code",
   "execution_count": 4,
   "metadata": {
    "collapsed": false
   },
   "outputs": [
    {
     "data": {
      "text/plain": [
       "5"
      ]
     },
     "execution_count": 4,
     "metadata": {},
     "output_type": "execute_result"
    }
   ],
   "source": [
    "2 + 3 "
   ]
  },
  {
   "cell_type": "code",
   "execution_count": 5,
   "metadata": {
    "collapsed": false
   },
   "outputs": [
    {
     "data": {
      "text/plain": [
       "2"
      ]
     },
     "execution_count": 5,
     "metadata": {},
     "output_type": "execute_result"
    }
   ],
   "source": [
    "5 / 2"
   ]
  },
  {
   "cell_type": "code",
   "execution_count": 6,
   "metadata": {
    "collapsed": false
   },
   "outputs": [
    {
     "data": {
      "text/plain": [
       "1.6666666666666667"
      ]
     },
     "execution_count": 6,
     "metadata": {},
     "output_type": "execute_result"
    }
   ],
   "source": [
    "# Floating point numbers\n",
    "5. / 3. "
   ]
  },
  {
   "cell_type": "code",
   "execution_count": 7,
   "metadata": {
    "collapsed": false
   },
   "outputs": [
    {
     "data": {
      "text/plain": [
       "12.0"
      ]
     },
     "execution_count": 7,
     "metadata": {},
     "output_type": "execute_result"
    }
   ],
   "source": [
    "3 * 4. "
   ]
  },
  {
   "cell_type": "code",
   "execution_count": 9,
   "metadata": {
    "collapsed": false
   },
   "outputs": [
    {
     "data": {
      "text/plain": [
       "9.0"
      ]
     },
     "execution_count": 9,
     "metadata": {},
     "output_type": "execute_result"
    }
   ],
   "source": [
    "# Exponents\n",
    "3**2."
   ]
  },
  {
   "cell_type": "code",
   "execution_count": 11,
   "metadata": {
    "collapsed": false
   },
   "outputs": [
    {
     "name": "stdout",
     "output_type": "stream",
     "text": [
      "11\n"
     ]
    }
   ],
   "source": [
    "# Defining variables\n",
    "a = 5\n",
    "b = 6\n",
    "print a + b"
   ]
  },
  {
   "cell_type": "code",
   "execution_count": 12,
   "metadata": {
    "collapsed": false
   },
   "outputs": [
    {
     "data": {
      "text/plain": [
       "30"
      ]
     },
     "execution_count": 12,
     "metadata": {},
     "output_type": "execute_result"
    }
   ],
   "source": [
    "a * b"
   ]
  },
  {
   "cell_type": "code",
   "execution_count": 13,
   "metadata": {
    "collapsed": false
   },
   "outputs": [
    {
     "name": "stdout",
     "output_type": "stream",
     "text": [
      "5\n"
     ]
    }
   ],
   "source": [
    "print(a)"
   ]
  },
  {
   "cell_type": "code",
   "execution_count": 11,
   "metadata": {
    "collapsed": false
   },
   "outputs": [
    {
     "data": {
      "text/plain": [
       "4.0"
      ]
     },
     "execution_count": 11,
     "metadata": {},
     "output_type": "execute_result"
    }
   ],
   "source": [
    "import math\n",
    "math.sqrt(16.)"
   ]
  },
  {
   "cell_type": "code",
   "execution_count": 16,
   "metadata": {
    "collapsed": false
   },
   "outputs": [
    {
     "data": {
      "text/plain": [
       "3.141592653589793"
      ]
     },
     "execution_count": 16,
     "metadata": {},
     "output_type": "execute_result"
    }
   ],
   "source": [
    "math.pi"
   ]
  },
  {
   "cell_type": "code",
   "execution_count": 12,
   "metadata": {
    "collapsed": true
   },
   "outputs": [],
   "source": [
    "import numpy as np"
   ]
  },
  {
   "cell_type": "code",
   "execution_count": 19,
   "metadata": {
    "collapsed": false
   },
   "outputs": [
    {
     "name": "stdout",
     "output_type": "stream",
     "text": [
      "hello ciao\n"
     ]
    }
   ],
   "source": [
    "a = \"hello \"\n",
    "b = \"ciao\"\n",
    "print(a + b)"
   ]
  },
  {
   "cell_type": "code",
   "execution_count": 21,
   "metadata": {
    "collapsed": true
   },
   "outputs": [],
   "source": [
    "a = np.array([3,4,5,6,7])"
   ]
  },
  {
   "cell_type": "code",
   "execution_count": 22,
   "metadata": {
    "collapsed": false
   },
   "outputs": [
    {
     "data": {
      "text/plain": [
       "array([3, 4, 5, 6, 7])"
      ]
     },
     "execution_count": 22,
     "metadata": {},
     "output_type": "execute_result"
    }
   ],
   "source": [
    "a"
   ]
  },
  {
   "cell_type": "code",
   "execution_count": 23,
   "metadata": {
    "collapsed": false
   },
   "outputs": [
    {
     "data": {
      "text/plain": [
       "array([ 8,  9, 10, 11, 12])"
      ]
     },
     "execution_count": 23,
     "metadata": {},
     "output_type": "execute_result"
    }
   ],
   "source": [
    "a + 5"
   ]
  },
  {
   "cell_type": "code",
   "execution_count": 24,
   "metadata": {
    "collapsed": false
   },
   "outputs": [
    {
     "data": {
      "text/plain": [
       "5.0"
      ]
     },
     "execution_count": 24,
     "metadata": {},
     "output_type": "execute_result"
    }
   ],
   "source": [
    "np.mean(a)"
   ]
  },
  {
   "cell_type": "code",
   "execution_count": 25,
   "metadata": {
    "collapsed": false
   },
   "outputs": [
    {
     "data": {
      "text/plain": [
       "1.4142135623730951"
      ]
     },
     "execution_count": 25,
     "metadata": {},
     "output_type": "execute_result"
    }
   ],
   "source": [
    "np.std(a)"
   ]
  },
  {
   "cell_type": "code",
   "execution_count": 26,
   "metadata": {
    "collapsed": false
   },
   "outputs": [
    {
     "data": {
      "text/plain": [
       "array([ 9, 16, 25, 36, 49])"
      ]
     },
     "execution_count": 26,
     "metadata": {},
     "output_type": "execute_result"
    }
   ],
   "source": [
    "a * a"
   ]
  },
  {
   "cell_type": "code",
   "execution_count": 27,
   "metadata": {
    "collapsed": false
   },
   "outputs": [
    {
     "data": {
      "text/plain": [
       "array([ 7,  9, 11, 13, 15])"
      ]
     },
     "execution_count": 27,
     "metadata": {},
     "output_type": "execute_result"
    }
   ],
   "source": [
    "b = np.array([4,5,6,7,8])\n",
    "a + b "
   ]
  },
  {
   "cell_type": "code",
   "execution_count": 13,
   "metadata": {
    "collapsed": true
   },
   "outputs": [],
   "source": [
    "from matplotlib import pyplot as plt\n",
    "%matplotlib inline"
   ]
  },
  {
   "cell_type": "code",
   "execution_count": 29,
   "metadata": {
    "collapsed": false
   },
   "outputs": [
    {
     "data": {
      "text/plain": [
       "[<matplotlib.lines.Line2D at 0x7f7143e1f750>]"
      ]
     },
     "execution_count": 29,
     "metadata": {},
     "output_type": "execute_result"
    },
    {
     "data": {
      "image/png": "[encoded data removed]",
      "text/plain": [
       "<matplotlib.figure.Figure at 0x7f7174d75110>"
      ]
     },
     "metadata": {},
     "output_type": "display_data"
    }
   ],
   "source": [
    "plt.plot(a,b,'bo')"
   ]
  },
  {
   "cell_type": "code",
   "execution_count": 32,
   "metadata": {
    "collapsed": false
   },
   "outputs": [
    {
     "data": {
      "text/plain": [
       "[<matplotlib.lines.Line2D at 0x7f71438ac4d0>]"
      ]
     },
     "execution_count": 32,
     "metadata": {},
     "output_type": "execute_result"
    },
    {
     "data": {
      "image/png": "[encoded data removed]",
      "text/plain": [
       "<matplotlib.figure.Figure at 0x7f7174d753d0>"
      ]
     },
     "metadata": {},
     "output_type": "display_data"
    }
   ],
   "source": [
    "plt.plot(a,b,'r-')"
   ]
  },
  {
   "cell_type": "code",
   "execution_count": 33,
   "metadata": {
    "collapsed": false
   },
   "outputs": [
    {
     "data": {
      "text/plain": [
       "[<matplotlib.lines.Line2D at 0x7f714376e750>]"
      ]
     },
     "execution_count": 33,
     "metadata": {},
     "output_type": "execute_result"
    },
    {
     "data": {
      "image/png": "[encoded data removed]",
      "text/plain": [
       "<matplotlib.figure.Figure at 0x7f7143843c90>"
      ]
     },
     "metadata": {},
     "output_type": "display_data"
    }
   ],
   "source": [
    "plt.plot(a,b,'sb') "
   ]
  },
  {
   "cell_type": "code",
   "execution_count": 34,
   "metadata": {
    "collapsed": false
   },
   "outputs": [
    {
     "data": {
      "text/plain": [
       "(0, 10)"
      ]
     },
     "execution_count": 34,
     "metadata": {},
     "output_type": "execute_result"
    },
    {
     "data": {
      "image/png": "[encoded data removed]",
      "text/plain": [
       "<matplotlib.figure.Figure at 0x7f714384d210>"
      ]
     },
     "metadata": {},
     "output_type": "display_data"
    }
   ],
   "source": [
    "plt.xlim(0,7)\n",
    "plt.ylim(0,10)"
   ]
  },
  {
   "cell_type": "code",
   "execution_count": 35,
   "metadata": {
    "collapsed": false
   },
   "outputs": [
    {
     "name": "stdout",
     "output_type": "stream",
     "text": [
      "Help on function errorbar in module matplotlib.pyplot:\n",
      "\n",
      "errorbar(x, y, yerr=None, xerr=None, fmt=u'', ecolor=None, elinewidth=None, capsize=None, barsabove=False, lolims=False, uplims=False, xlolims=False, xuplims=False, errorevery=1, capthick=None, hold=None, data=None, **kwargs)\n",
      "    Plot an errorbar graph.\n",
      "    \n",
      "    Call signature::\n",
      "    \n",
      "      errorbar(x, y, yerr=None, xerr=None,\n",
      "               fmt='', ecolor=None, elinewidth=None, capsize=None,\n",
      "               barsabove=False, lolims=False, uplims=False,\n",
      "               xlolims=False, xuplims=False, errorevery=1,\n",
      "               capthick=None)\n",
      "    \n",
      "    Plot *x* versus *y* with error deltas in *yerr* and *xerr*.\n",
      "    Vertical errorbars are plotted if *yerr* is not *None*.\n",
      "    Horizontal errorbars are plotted if *xerr* is not *None*.\n",
      "    \n",
      "    *x*, *y*, *xerr*, and *yerr* can all be scalars, which plots a\n",
      "    single error bar at *x*, *y*.\n",
      "    \n",
      "    Optional keyword arguments:\n",
      "    \n",
      "      *xerr*/*yerr*: [ scalar | N, Nx1, or 2xN array-like ]\n",
      "        If a scalar number, len(N) array-like object, or an Nx1\n",
      "        array-like object, errorbars are drawn at +/-value relative\n",
      "        to the data.\n",
      "    \n",
      "        If a sequence of shape 2xN, errorbars are drawn at -row1\n",
      "        and +row2 relative to the data.\n",
      "    \n",
      "      *fmt*: [ '' | 'none' | plot format string ]\n",
      "        The plot format symbol. If *fmt* is 'none' (case-insensitive),\n",
      "        only the errorbars are plotted.  This is used for adding\n",
      "        errorbars to a bar plot, for example.  Default is '',\n",
      "        an empty plot format string; properties are\n",
      "        then identical to the defaults for :meth:`plot`.\n",
      "    \n",
      "      *ecolor*: [ *None* | mpl color ]\n",
      "        A matplotlib color arg which gives the color the errorbar lines;\n",
      "        if *None*, use the color of the line connecting the markers.\n",
      "    \n",
      "      *elinewidth*: scalar\n",
      "        The linewidth of the errorbar lines. If *None*, use the linewidth.\n",
      "    \n",
      "      *capsize*: scalar\n",
      "        The length of the error bar caps in points; if *None*, it will\n",
      "        take the value from ``errorbar.capsize``\n",
      "        :data:`rcParam<matplotlib.rcParams>`.\n",
      "    \n",
      "      *capthick*: scalar\n",
      "        An alias kwarg to *markeredgewidth* (a.k.a. - *mew*). This\n",
      "        setting is a more sensible name for the property that\n",
      "        controls the thickness of the error bar cap in points. For\n",
      "        backwards compatibility, if *mew* or *markeredgewidth* are given,\n",
      "        then they will over-ride *capthick*.  This may change in future\n",
      "        releases.\n",
      "    \n",
      "      *barsabove*: [ *True* | *False* ]\n",
      "        if *True*, will plot the errorbars above the plot\n",
      "        symbols. Default is below.\n",
      "    \n",
      "      *lolims* / *uplims* / *xlolims* / *xuplims*: [ *False* | *True* ]\n",
      "        These arguments can be used to indicate that a value gives\n",
      "        only upper/lower limits. In that case a caret symbol is\n",
      "        used to indicate this. lims-arguments may be of the same\n",
      "        type as *xerr* and *yerr*.  To use limits with inverted\n",
      "        axes, :meth:`set_xlim` or :meth:`set_ylim` must be called\n",
      "        before :meth:`errorbar`.\n",
      "    \n",
      "      *errorevery*: positive integer\n",
      "        subsamples the errorbars. e.g., if errorevery=5, errorbars for\n",
      "        every 5-th datapoint will be plotted. The data plot itself still\n",
      "        shows all data points.\n",
      "    \n",
      "    All other keyword arguments are passed on to the plot command for the\n",
      "    markers. For example, this code makes big red squares with\n",
      "    thick green edges::\n",
      "    \n",
      "      x,y,yerr = rand(3,10)\n",
      "      errorbar(x, y, yerr, marker='s',\n",
      "               mfc='red', mec='green', ms=20, mew=4)\n",
      "    \n",
      "    where *mfc*, *mec*, *ms* and *mew* are aliases for the longer\n",
      "    property names, *markerfacecolor*, *markeredgecolor*, *markersize*\n",
      "    and *markeredgewith*.\n",
      "    \n",
      "    valid kwargs for the marker properties are\n",
      "    \n",
      "      agg_filter: unknown\n",
      "      alpha: float (0.0 transparent through 1.0 opaque) \n",
      "      animated: [True | False] \n",
      "      antialiased or aa: [True | False] \n",
      "      axes: an :class:`~matplotlib.axes.Axes` instance \n",
      "      clip_box: a :class:`matplotlib.transforms.Bbox` instance \n",
      "      clip_on: [True | False] \n",
      "      clip_path: [ (:class:`~matplotlib.path.Path`, :class:`~matplotlib.transforms.Transform`) | :class:`~matplotlib.patches.Patch` | None ] \n",
      "      color or c: any matplotlib color \n",
      "      contains: a callable function \n",
      "      dash_capstyle: ['butt' | 'round' | 'projecting'] \n",
      "      dash_joinstyle: ['miter' | 'round' | 'bevel'] \n",
      "      dashes: sequence of on/off ink in points \n",
      "      drawstyle: ['default' | 'steps' | 'steps-pre' | 'steps-mid' | 'steps-post'] \n",
      "      figure: a :class:`matplotlib.figure.Figure` instance \n",
      "      fillstyle: ['full' | 'left' | 'right' | 'bottom' | 'top' | 'none'] \n",
      "      gid: an id string \n",
      "      label: string or anything printable with '%s' conversion. \n",
      "      linestyle or ls: ['solid' | 'dashed', 'dashdot', 'dotted' | (offset, on-off-dash-seq) | ``'-'`` | ``'--'`` | ``'-.'`` | ``':'`` | ``'None'`` | ``' '`` | ``''``]\n",
      "      linewidth or lw: float value in points \n",
      "      marker: :mod:`A valid marker style <matplotlib.markers>`\n",
      "      markeredgecolor or mec: any matplotlib color \n",
      "      markeredgewidth or mew: float value in points \n",
      "      markerfacecolor or mfc: any matplotlib color \n",
      "      markerfacecoloralt or mfcalt: any matplotlib color \n",
      "      markersize or ms: float \n",
      "      markevery: [None | int | length-2 tuple of int | slice | list/array of int | float | length-2 tuple of float]\n",
      "      path_effects: unknown\n",
      "      picker: float distance in points or callable pick function ``fn(artist, event)`` \n",
      "      pickradius: float distance in points \n",
      "      rasterized: [True | False | None] \n",
      "      sketch_params: unknown\n",
      "      snap: unknown\n",
      "      solid_capstyle: ['butt' | 'round' |  'projecting'] \n",
      "      solid_joinstyle: ['miter' | 'round' | 'bevel'] \n",
      "      transform: a :class:`matplotlib.transforms.Transform` instance \n",
      "      url: a url string \n",
      "      visible: [True | False] \n",
      "      xdata: 1D array \n",
      "      ydata: 1D array \n",
      "      zorder: any number \n",
      "    \n",
      "    Returns (*plotline*, *caplines*, *barlinecols*):\n",
      "    \n",
      "        *plotline*: :class:`~matplotlib.lines.Line2D` instance\n",
      "            *x*, *y* plot markers and/or line\n",
      "    \n",
      "        *caplines*: list of error bar cap\n",
      "            :class:`~matplotlib.lines.Line2D` instances\n",
      "        *barlinecols*: list of\n",
      "            :class:`~matplotlib.collections.LineCollection` instances for\n",
      "            the horizontal and vertical error ranges.\n",
      "    \n",
      "    **Example:**\n",
      "    \n",
      "    .. plot:: mpl_examples/statistics/errorbar_demo.py\n",
      "    \n",
      "    Notes\n",
      "    -----\n",
      "    \n",
      "    In addition to the above described arguments, this function can take a\n",
      "    **data** keyword argument. If such a **data** argument is given, the\n",
      "    following arguments are replaced by **data[<arg>]**:\n",
      "    \n",
      "    * All arguments with the following names: 'y', 'x', 'yerr', 'xerr'.\n",
      "    \n",
      "    \n",
      "    \n",
      "    \n",
      "    Additional kwargs: hold = [True|False] overrides default hold state\n",
      "\n"
     ]
    }
   ],
   "source": [
    "help(plt.errorbar)"
   ]
  },
  {
   "cell_type": "code",
   "execution_count": 38,
   "metadata": {
    "collapsed": false
   },
   "outputs": [
    {
     "data": {
      "text/plain": [
       "<matplotlib.text.Text at 0x7f714362dd10>"
      ]
     },
     "execution_count": 38,
     "metadata": {},
     "output_type": "execute_result"
    },
    {
     "data": {
      "image/png": "[encoded data removed]",
      "text/plain": [
       "<matplotlib.figure.Figure at 0x7f7143573090>"
      ]
     },
     "metadata": {},
     "output_type": "display_data"
    }
   ],
   "source": [
    "aerr = np.array([1,1,1,2,1])\n",
    "plt.errorbar(a,b,yerr = aerr, fmt='bo')\n",
    "plt.xlabel('Variable A')\n",
    "plt.ylabel('Variable B')"
   ]
  },
  {
   "cell_type": "code",
   "execution_count": 2,
   "metadata": {
    "collapsed": false
   },
   "outputs": [],
   "source": [
    "# import library to read files\n",
    "from astropy.io import ascii"
   ]
  },
  {
   "cell_type": "code",
   "execution_count": 16,
   "metadata": {
    "collapsed": false
   },
   "outputs": [],
   "source": [
    "infile = 'planet2radialdata.txt'\n",
    "hdat1 = ascii.read(infile, names = ['HJD', 'RV', 'RV_err'])"
   ]
  },
  {
   "cell_type": "code",
   "execution_count": 6,
   "metadata": {
    "collapsed": true
   },
   "outputs": [],
   "source": [
    "infile = 'hubble_data_riess2016.txt'\n",
    "hdat1 = ascii.read(infile, names = ['galaxy', 'supernova', 'm', 'm_err', 'DM', 'DM_err', 'M', 'M_err', 'v'])"
   ]
  },
  {
   "cell_type": "code",
   "execution_count": 17,
   "metadata": {
    "collapsed": false
   },
   "outputs": [
    {
     "data": {
      "text/html": [
       "&lt;Table length=7&gt;\n",
       "<table id=\"table140124084532944\">\n",
       "<thead><tr><th>HJD</th><th>RV</th><th>RV_err</th></tr></thead>\n",
       "<thead><tr><th>float64</th><th>float64</th><th>float64</th></tr></thead>\n",
       "<tr><td>86.99525</td><td>229.0</td><td>10.8</td></tr>\n",
       "<tr><td>87.11354</td><td>82.1</td><td>8.5</td></tr>\n",
       "<tr><td>87.9633</td><td>167.5</td><td>8.4</td></tr>\n",
       "<tr><td>88.04216</td><td>286.3</td><td>9.7</td></tr>\n",
       "<tr><td>88.96503</td><td>-336.5</td><td>8.6</td></tr>\n",
       "<tr><td>89.04672</td><td>-234.5</td><td>10.9</td></tr>\n",
       "<tr><td>89.09622</td><td>-183.9</td><td>9.3</td></tr>\n",
       "</table>"
      ],
      "text/plain": [
       "<Table length=7>\n",
       "  HJD       RV    RV_err\n",
       "float64  float64 float64\n",
       "-------- ------- -------\n",
       "86.99525   229.0    10.8\n",
       "87.11354    82.1     8.5\n",
       " 87.9633   167.5     8.4\n",
       "88.04216   286.3     9.7\n",
       "88.96503  -336.5     8.6\n",
       "89.04672  -234.5    10.9\n",
       "89.09622  -183.9     9.3"
      ]
     },
     "execution_count": 17,
     "metadata": {},
     "output_type": "execute_result"
    }
   ],
   "source": [
    "hdat1"
   ]
  },
  {
   "cell_type": "code",
   "execution_count": 18,
   "metadata": {
    "collapsed": false
   },
   "outputs": [
    {
     "data": {
      "text/plain": [
       "[<matplotlib.lines.Line2D at 0x7f712e470610>]"
      ]
     },
     "execution_count": 18,
     "metadata": {},
     "output_type": "execute_result"
    },
    {
     "data": {
      "image/png": "[encoded data removed]",
      "text/plain": [
       "<matplotlib.figure.Figure at 0x7f712e4d8f90>"
      ]
     },
     "metadata": {},
     "output_type": "display_data"
    }
   ],
   "source": [
    "plt.plot(hdat1['HJD'], hdat1['RV'], 'gv')"
   ]
  },
  {
   "cell_type": "code",
   "execution_count": 22,
   "metadata": {
    "collapsed": false
   },
   "outputs": [
    {
     "data": {
      "text/plain": [
       "<matplotlib.text.Text at 0x7f712e252ad0>"
      ]
     },
     "execution_count": 22,
     "metadata": {},
     "output_type": "execute_result"
    },
    {
     "data": {
      "image/png": "[encoded data removed]",
      "text/plain": [
       "<matplotlib.figure.Figure at 0x7f712e332250>"
      ]
     },
     "metadata": {},
     "output_type": "display_data"
    }
   ],
   "source": [
    "plt.errorbar(hdat1['HJD'], hdat1['RV'], yerr=hdat1['RV_err'], fmt='ks')\n",
    "plt.xlabel('Date')\n",
    "plt.ylabel('Radial Velocity')\n",
    "#plt.xlim(0, 1)\n",
    "plt.plot"
   ]
  },
  {
   "cell_type": "code",
   "execution_count": 54,
   "metadata": {
    "collapsed": false
   },
   "outputs": [
    {
     "name": "stdout",
     "output_type": "stream",
     "text": [
      "      DM     \n",
      "-------------\n",
      "6.71428852926\n",
      "31.5791182863\n",
      "31.9595017481\n",
      "18.2557634619\n",
      "18.2894228128\n",
      "20.0539533343\n",
      "31.5936643568\n",
      "25.9656979027\n",
      "24.0768684561\n",
      "20.7682546378\n",
      "22.2535857805\n",
      "18.1134009262\n",
      "16.4437172321\n",
      "15.1774915586\n",
      "20.2488330653\n",
      "22.7614539314\n",
      "28.3530641176\n",
      "19.9434367426\n",
      "38.3530582457\n"
     ]
    }
   ],
   "source": [
    "# Find the distance from distance modulus\n",
    "# Write the distance in Mpc \n",
    "dist = 10.**((hdat1['DM']/5)+1)\n",
    "dist = dist/1.e6\n",
    "print dist"
   ]
  },
  {
   "cell_type": "code",
   "execution_count": 56,
   "metadata": {
    "collapsed": false
   },
   "outputs": [
    {
     "data": {
      "text/plain": [
       "<matplotlib.text.Text at 0x7f71404f0110>"
      ]
     },
     "execution_count": 56,
     "metadata": {},
     "output_type": "execute_result"
    },
    {
     "data": {
      "image/png": "[encoded data removed]",
      "text/plain": [
       "<matplotlib.figure.Figure at 0x7f714057c710>"
      ]
     },
     "metadata": {},
     "output_type": "display_data"
    }
   ],
   "source": [
    "plt.plot(dist, hdat1['v'], 'gs')\n",
    "plt.xlabel(\"Distance (Mpc)\")\n",
    "plt.ylabel(\"Velocity (km/s)\")"
   ]
  },
  {
   "cell_type": "code",
   "execution_count": 57,
   "metadata": {
    "collapsed": false
   },
   "outputs": [
    {
     "name": "stdout",
     "output_type": "stream",
     "text": [
      "Help on function polyfit in module numpy.lib.polynomial:\n",
      "\n",
      "polyfit(x, y, deg, rcond=None, full=False, w=None, cov=False)\n",
      "    Least squares polynomial fit.\n",
      "    \n",
      "    Fit a polynomial ``p(x) = p[0] * x**deg + ... + p[deg]`` of degree `deg`\n",
      "    to points `(x, y)`. Returns a vector of coefficients `p` that minimises\n",
      "    the squared error.\n",
      "    \n",
      "    Parameters\n",
      "    ----------\n",
      "    x : array_like, shape (M,)\n",
      "        x-coordinates of the M sample points ``(x[i], y[i])``.\n",
      "    y : array_like, shape (M,) or (M, K)\n",
      "        y-coordinates of the sample points. Several data sets of sample\n",
      "        points sharing the same x-coordinates can be fitted at once by\n",
      "        passing in a 2D-array that contains one dataset per column.\n",
      "    deg : int\n",
      "        Degree of the fitting polynomial\n",
      "    rcond : float, optional\n",
      "        Relative condition number of the fit. Singular values smaller than\n",
      "        this relative to the largest singular value will be ignored. The\n",
      "        default value is len(x)*eps, where eps is the relative precision of\n",
      "        the float type, about 2e-16 in most cases.\n",
      "    full : bool, optional\n",
      "        Switch determining nature of return value. When it is False (the\n",
      "        default) just the coefficients are returned, when True diagnostic\n",
      "        information from the singular value decomposition is also returned.\n",
      "    w : array_like, shape (M,), optional\n",
      "        weights to apply to the y-coordinates of the sample points.\n",
      "    cov : bool, optional\n",
      "        Return the estimate and the covariance matrix of the estimate\n",
      "        If full is True, then cov is not returned.\n",
      "    \n",
      "    Returns\n",
      "    -------\n",
      "    p : ndarray, shape (M,) or (M, K)\n",
      "        Polynomial coefficients, highest power first.  If `y` was 2-D, the\n",
      "        coefficients for `k`-th data set are in ``p[:,k]``.\n",
      "    \n",
      "    residuals, rank, singular_values, rcond :\n",
      "        Present only if `full` = True.  Residuals of the least-squares fit,\n",
      "        the effective rank of the scaled Vandermonde coefficient matrix,\n",
      "        its singular values, and the specified value of `rcond`. For more\n",
      "        details, see `linalg.lstsq`.\n",
      "    \n",
      "    V : ndarray, shape (M,M) or (M,M,K)\n",
      "        Present only if `full` = False and `cov`=True.  The covariance\n",
      "        matrix of the polynomial coefficient estimates.  The diagonal of\n",
      "        this matrix are the variance estimates for each coefficient.  If y\n",
      "        is a 2-D array, then the covariance matrix for the `k`-th data set\n",
      "        are in ``V[:,:,k]``\n",
      "    \n",
      "    \n",
      "    Warns\n",
      "    -----\n",
      "    RankWarning\n",
      "        The rank of the coefficient matrix in the least-squares fit is\n",
      "        deficient. The warning is only raised if `full` = False.\n",
      "    \n",
      "        The warnings can be turned off by\n",
      "    \n",
      "        >>> import warnings\n",
      "        >>> warnings.simplefilter('ignore', np.RankWarning)\n",
      "    \n",
      "    See Also\n",
      "    --------\n",
      "    polyval : Computes polynomial values.\n",
      "    linalg.lstsq : Computes a least-squares fit.\n",
      "    scipy.interpolate.UnivariateSpline : Computes spline fits.\n",
      "    \n",
      "    Notes\n",
      "    -----\n",
      "    The solution minimizes the squared error\n",
      "    \n",
      "    .. math ::\n",
      "        E = \\sum_{j=0}^k |p(x_j) - y_j|^2\n",
      "    \n",
      "    in the equations::\n",
      "    \n",
      "        x[0]**n * p[0] + ... + x[0] * p[n-1] + p[n] = y[0]\n",
      "        x[1]**n * p[0] + ... + x[1] * p[n-1] + p[n] = y[1]\n",
      "        ...\n",
      "        x[k]**n * p[0] + ... + x[k] * p[n-1] + p[n] = y[k]\n",
      "    \n",
      "    The coefficient matrix of the coefficients `p` is a Vandermonde matrix.\n",
      "    \n",
      "    `polyfit` issues a `RankWarning` when the least-squares fit is badly\n",
      "    conditioned. This implies that the best fit is not well-defined due\n",
      "    to numerical error. The results may be improved by lowering the polynomial\n",
      "    degree or by replacing `x` by `x` - `x`.mean(). The `rcond` parameter\n",
      "    can also be set to a value smaller than its default, but the resulting\n",
      "    fit may be spurious: including contributions from the small singular\n",
      "    values can add numerical noise to the result.\n",
      "    \n",
      "    Note that fitting polynomial coefficients is inherently badly conditioned\n",
      "    when the degree of the polynomial is large or the interval of sample points\n",
      "    is badly centered. The quality of the fit should always be checked in these\n",
      "    cases. When polynomial fits are not satisfactory, splines may be a good\n",
      "    alternative.\n",
      "    \n",
      "    References\n",
      "    ----------\n",
      "    .. [1] Wikipedia, \"Curve fitting\",\n",
      "           http://en.wikipedia.org/wiki/Curve_fitting\n",
      "    .. [2] Wikipedia, \"Polynomial interpolation\",\n",
      "           http://en.wikipedia.org/wiki/Polynomial_interpolation\n",
      "    \n",
      "    Examples\n",
      "    --------\n",
      "    >>> x = np.array([0.0, 1.0, 2.0, 3.0,  4.0,  5.0])\n",
      "    >>> y = np.array([0.0, 0.8, 0.9, 0.1, -0.8, -1.0])\n",
      "    >>> z = np.polyfit(x, y, 3)\n",
      "    >>> z\n",
      "    array([ 0.08703704, -0.81349206,  1.69312169, -0.03968254])\n",
      "    \n",
      "    It is convenient to use `poly1d` objects for dealing with polynomials:\n",
      "    \n",
      "    >>> p = np.poly1d(z)\n",
      "    >>> p(0.5)\n",
      "    0.6143849206349179\n",
      "    >>> p(3.5)\n",
      "    -0.34732142857143039\n",
      "    >>> p(10)\n",
      "    22.579365079365115\n",
      "    \n",
      "    High-order polynomials may oscillate wildly:\n",
      "    \n",
      "    >>> p30 = np.poly1d(np.polyfit(x, y, 30))\n",
      "    /... RankWarning: Polyfit may be poorly conditioned...\n",
      "    >>> p30(4)\n",
      "    -0.80000000000000204\n",
      "    >>> p30(5)\n",
      "    -0.99999999999999445\n",
      "    >>> p30(4.5)\n",
      "    -0.10547061179440398\n",
      "    \n",
      "    Illustration:\n",
      "    \n",
      "    >>> import matplotlib.pyplot as plt\n",
      "    >>> xp = np.linspace(-2, 6, 100)\n",
      "    >>> _ = plt.plot(x, y, '.', xp, p(xp), '-', xp, p30(xp), '--')\n",
      "    >>> plt.ylim(-2,2)\n",
      "    (-2, 2)\n",
      "    >>> plt.show()\n",
      "\n"
     ]
    }
   ],
   "source": [
    "help(np.polyfit)"
   ]
  },
  {
   "cell_type": "code",
   "execution_count": 58,
   "metadata": {
    "collapsed": true
   },
   "outputs": [],
   "source": [
    "result = np.polyfit(dist, hdat1['v'], 1)"
   ]
  },
  {
   "cell_type": "code",
   "execution_count": 59,
   "metadata": {
    "collapsed": false
   },
   "outputs": [
    {
     "name": "stdout",
     "output_type": "stream",
     "text": [
      "[  53.6296996   186.40616205]\n"
     ]
    }
   ],
   "source": [
    "# First term is the slope (m), second term is the intercept (b) (mx + b)\n",
    "print result"
   ]
  },
  {
   "cell_type": "code",
   "execution_count": 62,
   "metadata": {
    "collapsed": false
   },
   "outputs": [
    {
     "name": "stdout",
     "output_type": "stream",
     "text": [
      "[  546.49143891  1879.98478943  1900.38464023  1165.45727251  1167.26241339\n",
      "  1261.8936552   1880.76489083  1578.93874052  1477.6413847   1300.20141953\n",
      "  1379.85928252  1157.82241249  1068.27777755  1000.37047505  1272.34499663\n",
      "  1407.09609889  1706.97247347  1255.96668358  2243.26915457]\n"
     ]
    }
   ],
   "source": [
    "v_model = np.polyval(result, dist)\n",
    "print v_model"
   ]
  },
  {
   "cell_type": "code",
   "execution_count": 64,
   "metadata": {
    "collapsed": false
   },
   "outputs": [
    {
     "data": {
      "image/png": "[encoded data removed]",
      "text/plain": [
       "<matplotlib.figure.Figure at 0x7f7140558610>"
      ]
     },
     "metadata": {},
     "output_type": "display_data"
    }
   ],
   "source": [
    "plt.plot(dist, hdat1['v'], 'gs')\n",
    "plt.plot(dist, v_model, 'r-')\n",
    "plt.xlabel(\"Distance\")\n",
    "plt.ylabel(\"Velocity\")\n",
    "plt.savefig('Hubble_plot.eps')"
   ]
  },
  {
   "cell_type": "code",
   "execution_count": 72,
   "metadata": {
    "collapsed": true
   },
   "outputs": [],
   "source": [
    "result2 = np.polyfit(dist, hdat1['v'], 2)"
   ]
  },
  {
   "cell_type": "code",
   "execution_count": 74,
   "metadata": {
    "collapsed": false
   },
   "outputs": [],
   "source": [
    "xx = np.arange(5, 40, 1)"
   ]
  },
  {
   "cell_type": "code",
   "execution_count": 82,
   "metadata": {
    "collapsed": true
   },
   "outputs": [],
   "source": [
    "v_model2 = np.polyval(result2, xx)"
   ]
  },
  {
   "cell_type": "code",
   "execution_count": 83,
   "metadata": {
    "collapsed": false
   },
   "outputs": [
    {
     "data": {
      "text/plain": [
       "<matplotlib.text.Text at 0x7f713fd9a350>"
      ]
     },
     "execution_count": 83,
     "metadata": {},
     "output_type": "execute_result"
    },
    {
     "data": {
      "image/png": "[encoded data removed]",
      "text/plain": [
       "<matplotlib.figure.Figure at 0x7f7140b04a10>"
      ]
     },
     "metadata": {},
     "output_type": "display_data"
    }
   ],
   "source": [
    "plt.plot(dist, hdat1['v'], 'gs')\n",
    "plt.plot(dist, v_model, 'b-')\n",
    "plt.plot(xx, v_model2, 'rp')\n",
    "plt.xlabel('Distance')\n",
    "plt.ylabel('Velocity')\n"
   ]
  },
  {
   "cell_type": "code",
   "execution_count": 88,
   "metadata": {
    "collapsed": false
   },
   "outputs": [
    {
     "data": {
      "text/plain": [
       "(array([ 12.,  14.,  10.,   5.,  15.,   7.,  13.,   8.,   7.,   9.]),\n",
       " array([ 0.02028722,  0.11771656,  0.21514589,  0.31257522,  0.41000456,\n",
       "         0.50743389,  0.60486323,  0.70229256,  0.79972189,  0.89715123,\n",
       "         0.99458056]),\n",
       " <a list of 10 Patch objects>)"
      ]
     },
     "execution_count": 88,
     "metadata": {},
     "output_type": "execute_result"
    },
    {
     "data": {
      "image/png": "[encoded data removed]",
      "text/plain": [
       "<matplotlib.figure.Figure at 0x7f713fc73f50>"
      ]
     },
     "metadata": {},
     "output_type": "display_data"
    }
   ],
   "source": [
    "#Make a random generator with numbers between 1 and 23\n",
    "yy = np.random.random(100)\n",
    "plt.hist(yy)"
   ]
  },
  {
   "cell_type": "code",
   "execution_count": 85,
   "metadata": {
    "collapsed": false
   },
   "outputs": [
    {
     "data": {
      "text/plain": [
       "22"
      ]
     },
     "execution_count": 85,
     "metadata": {},
     "output_type": "execute_result"
    }
   ],
   "source": [
    "np.random.randint(1, 23)"
   ]
  },
  {
   "cell_type": "code",
   "execution_count": 94,
   "metadata": {
    "collapsed": false
   },
   "outputs": [
    {
     "data": {
      "text/plain": [
       "(array([ 11.,  11.,  11.,   9.,  14.,   6.,   8.,  13.,  10.,   7.]),\n",
       " array([  9.67325853e-03,   2.29885580e+00,   4.58803834e+00,\n",
       "          6.87722089e+00,   9.16640343e+00,   1.14555860e+01,\n",
       "          1.37447685e+01,   1.60339511e+01,   1.83231336e+01,\n",
       "          2.06123161e+01,   2.29014987e+01]),\n",
       " <a list of 10 Patch objects>)"
      ]
     },
     "execution_count": 94,
     "metadata": {},
     "output_type": "execute_result"
    },
    {
     "data": {
      "image/png": "[encoded data removed]",
      "text/plain": [
       "<matplotlib.figure.Figure at 0x7f7140b18b90>"
      ]
     },
     "metadata": {},
     "output_type": "display_data"
    }
   ],
   "source": [
    "zz = np.random.random(100)*23\n",
    "plt.hist(zz)"
   ]
  },
  {
   "cell_type": "code",
   "execution_count": 95,
   "metadata": {
    "collapsed": false
   },
   "outputs": [
    {
     "data": {
      "text/plain": [
       "(array([ 1.,  0.,  0.,  2.,  0.,  0.,  5.,  0.,  0.,  2.]),\n",
       " array([ 1. ,  1.3,  1.6,  1.9,  2.2,  2.5,  2.8,  3.1,  3.4,  3.7,  4. ]),\n",
       " <a list of 10 Patch objects>)"
      ]
     },
     "execution_count": 95,
     "metadata": {},
     "output_type": "execute_result"
    },
    {
     "data": {
      "image/png": "[encoded data removed]",
      "text/plain": [
       "<matplotlib.figure.Figure at 0x7f71405b7c90>"
      ]
     },
     "metadata": {},
     "output_type": "display_data"
    }
   ],
   "source": [
    "ww = np.array([1,2,3,4,3,4,3,3,3,2])\n",
    "plt.hist(ww)"
   ]
  },
  {
   "cell_type": "code",
   "execution_count": null,
   "metadata": {
    "collapsed": true
   },
   "outputs": [],
   "source": []
  }
 ],
 "metadata": {
  "kernelspec": {
   "display_name": "Python 2",
   "language": "python",
   "name": "python2"
  },
  "language_info": {
   "codemirror_mode": {
    "name": "ipython",
    "version": 2
   },
   "file_extension": ".py",
   "mimetype": "text/x-python",
   "name": "python",
   "nbconvert_exporter": "python",
   "pygments_lexer": "ipython2",
   "version": "2.7.11"
  }
 },
 "nbformat": 4,
 "nbformat_minor": 0
}
